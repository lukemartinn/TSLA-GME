{
 "cells": [
  {
   "cell_type": "markdown",
   "id": "38191c30",
   "metadata": {},
   "source": [
    "# Tesla & GameStop Data Extraction and Visualization\n",
    "_This notebook executes questions 1–6, displays tables, and plots actual graphs._"
   ]
  },
  {
   "cell_type": "markdown",
   "id": "ec8b85a4",
   "metadata": {},
   "source": [
    "## Question 1: Extract Tesla Stock Data using yfinance"
   ]
  },
  {
   "cell_type": "code",
   "execution_count": null,
   "id": "97c1cf39",
   "metadata": {},
   "outputs": [],
   "source": [
    "import yfinance as yf\n",
    "\n",
    "# Create ticker and download data\n",
    "tesla = yf.Ticker('TSLA')\n",
    "tesla_data = tesla.history(start='2010-01-01', end='2025-06-17')\n",
    "# Reset index and display head\n",
    "tesla_data.reset_index(inplace=True)\n",
    "tesla_data.head()"
   ]
  },
  {
   "cell_type": "markdown",
   "id": "ccc5f1de",
   "metadata": {},
   "source": [
    "## Question 2: Extract Tesla Revenue via Web Scraping"
   ]
  },
  {
   "cell_type": "code",
   "execution_count": null,
   "id": "494d384b",
   "metadata": {},
   "outputs": [],
   "source": [
    "import requests\n",
    "from bs4 import BeautifulSoup\n",
    "import pandas as pd\n",
    "\n",
    "url = 'https://www.macrotrends.net/stocks/charts/TSLA/tesla/revenue'\n",
    "html = requests.get(url).text\n",
    "soup = BeautifulSoup(html, 'html.parser')\n",
    "table = soup.find('table', {'class':'historical_data_table'})\n",
    "rows = table.tbody.find_all('tr')\n",
    "data = [(r.find_all('td')[0].text, float(r.find_all('td')[1].text.replace('$','').replace(',',''))) for r in rows]\n",
    "tesla_revenue = pd.DataFrame(data, columns=['Quarter','Revenue'])\n",
    "tesla_revenue.tail()"
   ]
  },
  {
   "cell_type": "markdown",
   "id": "a30f1121",
   "metadata": {},
   "source": [
    "## Question 3: Extract GameStop Stock Data using yfinance"
   ]
  },
  {
   "cell_type": "code",
   "execution_count": null,
   "id": "af24c4c6",
   "metadata": {},
   "outputs": [],
   "source": [
    "import yfinance as yf\n",
    "\n",
    "gme = yf.Ticker('GME')\n",
    "gme_data = gme.history(start='2002-01-01', end='2025-06-17')\n",
    "gme_data.reset_index(inplace=True)\n",
    "gme_data.head()"
   ]
  },
  {
   "cell_type": "markdown",
   "id": "ceee1c87",
   "metadata": {},
   "source": [
    "## Question 4: Extract GameStop Revenue via Web Scraping"
   ]
  },
  {
   "cell_type": "code",
   "execution_count": null,
   "id": "e735e8b5",
   "metadata": {},
   "outputs": [],
   "source": [
    "import requests\n",
    "from bs4 import BeautifulSoup\n",
    "import pandas as pd\n",
    "\n",
    "url = 'https://www.macrotrends.net/stocks/charts/GME/gamestop/revenue'\n",
    "html = requests.get(url).text\n",
    "soup = BeautifulSoup(html, 'html.parser')\n",
    "table = soup.find('table', {'class':'historical_data_table'})\n",
    "rows = table.tbody.find_all('tr')\n",
    "data = [(r.find_all('td')[0].text, float(r.find_all('td')[1].text.replace('$','').replace(',',''))) for r in rows]\n",
    "gme_revenue = pd.DataFrame(data, columns=['Quarter','Revenue'])\n",
    "gme_revenue.tail()"
   ]
  },
  {
   "cell_type": "markdown",
   "id": "af5d229b",
   "metadata": {},
   "source": [
    "## Setup: Define plotting function"
   ]
  },
  {
   "cell_type": "code",
   "execution_count": null,
   "id": "1fb386b3",
   "metadata": {},
   "outputs": [],
   "source": [
    "import matplotlib.pyplot as plt\n",
    "\n",
    "def plot_price(df, title):\n",
    "    plt.figure(figsize=(10,4))\n",
    "    plt.plot(df['Date'], df['Close'])\n",
    "    plt.title(title)\n",
    "    plt.xlabel('Date')\n",
    "    plt.ylabel('Close Price (USD)')\n",
    "    plt.show()"
   ]
  },
  {
   "cell_type": "markdown",
   "id": "fe10fb79",
   "metadata": {},
   "source": [
    "## Question 5: Plot Tesla Stock Graph"
   ]
  },
  {
   "cell_type": "code",
   "execution_count": null,
   "id": "9164a41d",
   "metadata": {},
   "outputs": [],
   "source": [
    "plot_price(tesla_data, 'Tesla Stock Closing Prices (2010–2025)')"
   ]
  },
  {
   "cell_type": "markdown",
   "id": "4e2a446a",
   "metadata": {},
   "source": [
    "## Question 6: Plot GameStop Stock Graph"
   ]
  },
  {
   "cell_type": "code",
   "execution_count": null,
   "id": "075f3f1f",
   "metadata": {},
   "outputs": [],
   "source": [
    "plot_price(gme_data, 'GameStop Stock Closing Prices (2002–2025)')"
   ]
  }
 ],
 "metadata": {},
 "nbformat": 4,
 "nbformat_minor": 5
}
