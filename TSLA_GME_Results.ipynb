{
 "cells": [
  {
   "cell_type": "markdown",
   "id": "fe942ebc",
   "metadata": {},
   "source": [
    "# TSLA & GME Data Extraction and Visualization\n",
    "This notebook extracts stock and revenue data for **Tesla (TSLA)** and **GameStop (GME)**, resets indexes, displays the first/last five rows, and plots closing price graphs."
   ]
  },
  {
   "cell_type": "markdown",
   "id": "99b3b28e",
   "metadata": {},
   "source": [
    "## Question 1: Use yfinance to Extract Tesla Stock Data\n",
    "1. Create a ticker object for TSLA.\n",
    "2. Download historical data.\n",
    "3. Reset the index and display the first five rows."
   ]
  },
  {
   "cell_type": "code",
   "execution_count": null,
   "id": "f7ee4813",
   "metadata": {},
   "outputs": [],
   "source": [
    "import yfinance as yf\n",
    "\n",
    "tesla = yf.Ticker(\"TSLA\")\n",
    "tesla_data = tesla.history(start=\"2010-01-01\", end=\"2025-06-17\")\n",
    "tesla_data.reset_index(inplace=True)\n",
    "tesla_data.head()"
   ]
  },
  {
   "cell_type": "markdown",
   "id": "2e5bf806",
   "metadata": {},
   "source": [
    "## Question 2: Use Web Scraping to Extract Tesla Revenue Data\n",
    "Display the last five rows of the `tesla_revenue` dataframe."
   ]
  },
  {
   "cell_type": "code",
   "execution_count": null,
   "id": "88f49a89",
   "metadata": {},
   "outputs": [],
   "source": [
    "import requests\n",
    "from bs4 import BeautifulSoup\n",
    "import pandas as pd\n",
    "\n",
    "url_tsla = \"https://www.macrotrends.net/stocks/charts/TSLA/tesla/revenue\"\n",
    "html_tsla = requests.get(url_tsla).text\n",
    "soup_tsla = BeautifulSoup(html_tsla, \"html.parser\")\n",
    "table_tsla = soup_tsla.find(\"table\", {\"class\": \"historical_data_table\"})\n",
    "rows = table_tsla.tbody.find_all(\"tr\")\n",
    "data = [(r.find_all('td')[0].text, float(r.find_all('td')[1].text.replace('$','').replace(',',''))) for r in rows]\n",
    "tesla_revenue = pd.DataFrame(data, columns=['Quarter','Revenue'])\n",
    "tesla_revenue.tail()"
   ]
  },
  {
   "cell_type": "markdown",
   "id": "e37307df",
   "metadata": {},
   "source": [
    "## Question 3: Use yfinance to Extract GameStop Stock Data\n",
    "Reset the index and display the first five rows of the `gme_data` dataframe."
   ]
  },
  {
   "cell_type": "code",
   "execution_count": null,
   "id": "10c7df14",
   "metadata": {},
   "outputs": [],
   "source": [
    "import yfinance as yf\n",
    "\n",
    "gme = yf.Ticker(\"GME\")\n",
    "gme_data = gme.history(start=\"2002-01-01\", end=\"2025-06-17\")\n",
    "gme_data.reset_index(inplace=True)\n",
    "gme_data.head()"
   ]
  },
  {
   "cell_type": "markdown",
   "id": "7a3a1162",
   "metadata": {},
   "source": [
    "## Question 4: Use Web Scraping to Extract GameStop Revenue Data\n",
    "Display the last five rows of the `gme_revenue` dataframe."
   ]
  },
  {
   "cell_type": "code",
   "execution_count": null,
   "id": "447cdf7e",
   "metadata": {},
   "outputs": [],
   "source": [
    "import requests\n",
    "from bs4 import BeautifulSoup\n",
    "import pandas as pd\n",
    "\n",
    "url_gme = \"https://www.macrotrends.net/stocks/charts/GME/gamestop/revenue\"\n",
    "html_gme = requests.get(url_gme).text\n",
    "soup_gme = BeautifulSoup(html_gme, \"html.parser\")\n",
    "table_gme = soup_gme.find(\"table\", {\"class\": \"historical_data_table\"})\n",
    "rows = table_gme.tbody.find_all(\"tr\")\n",
    "data = [(r.find_all('td')[0].text, float(r.find_all('td')[1].text.replace('$','').replace(',',''))) for r in rows]\n",
    "gme_revenue = pd.DataFrame(data, columns=['Quarter','Revenue'])\n",
    "gme_revenue.tail()"
   ]
  },
  {
   "cell_type": "markdown",
   "id": "622f5b94",
   "metadata": {},
   "source": [
    "## Question 5: Plot Tesla Stock Graph\n",
    "Plot Tesla closing prices."
   ]
  },
  {
   "cell_type": "code",
   "execution_count": null,
   "id": "b76a07fd",
   "metadata": {},
   "outputs": [],
   "source": [
    "import matplotlib.pyplot as plt\n",
    "plt.figure(figsize=(12,4))\n",
    "plt.plot(tesla_data['Date'], tesla_data['Close'])\n",
    "plt.title('Tesla Stock Closing Prices (2010–2025)')\n",
    "plt.xlabel('Date')\n",
    "plt.ylabel('Close Price (USD)')\n",
    "plt.show()"
   ]
  },
  {
   "cell_type": "markdown",
   "id": "36ac03fc",
   "metadata": {},
   "source": [
    "## Question 6: Plot GameStop Stock Graph\n",
    "Plot GameStop closing prices."
   ]
  },
  {
   "cell_type": "code",
   "execution_count": null,
   "id": "ebf7c8e4",
   "metadata": {},
   "outputs": [],
   "source": [
    "plt.figure(figsize=(12,4))\n",
    "plt.plot(gme_data['Date'], gme_data['Close'])\n",
    "plt.title('GameStop Stock Closing Prices (2002–2025)')\n",
    "plt.xlabel('Date')\n",
    "plt.ylabel('Close Price (USD)')\n",
    "plt.show()"
   ]
  }
 ],
 "metadata": {},
 "nbformat": 4,
 "nbformat_minor": 5
}
